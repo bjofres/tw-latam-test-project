{
 "cells": [
  {
   "cell_type": "markdown",
   "metadata": {
    "id": "atWG72RrG_i0"
   },
   "source": [
    "En este archivo puedes escribir lo que estimes conveniente. Te recomendamos detallar tu solución y todas las suposiciones que estás considerando. Aquí puedes ejecutar las funciones que definiste en los otros archivos de la carpeta src, medir el tiempo, memoria, etc."
   ]
  },
  {
   "cell_type": "code",
   "execution_count": 37,
   "metadata": {
    "colab": {
     "base_uri": "https://localhost:8080/"
    },
    "executionInfo": {
     "elapsed": 5027,
     "status": "ok",
     "timestamp": 1733593146815,
     "user": {
      "displayName": "Bastián Jofré",
      "userId": "01444947171289054730"
     },
     "user_tz": 180
    },
    "id": "YkaR33TpH0uO",
    "outputId": "90e61358-84aa-486e-919c-9d99e3661bb2"
   },
   "outputs": [
    {
     "name": "stdout",
     "output_type": "stream",
     "text": [
      "Requirement already satisfied: gdown in /usr/local/lib/python3.10/dist-packages (5.2.0)\n",
      "Collecting emoji\n",
      "  Downloading emoji-2.14.0-py3-none-any.whl.metadata (5.7 kB)\n",
      "Requirement already satisfied: beautifulsoup4 in /usr/local/lib/python3.10/dist-packages (from gdown) (4.12.3)\n",
      "Requirement already satisfied: filelock in /usr/local/lib/python3.10/dist-packages (from gdown) (3.16.1)\n",
      "Requirement already satisfied: requests[socks] in /usr/local/lib/python3.10/dist-packages (from gdown) (2.32.3)\n",
      "Requirement already satisfied: tqdm in /usr/local/lib/python3.10/dist-packages (from gdown) (4.66.6)\n",
      "Requirement already satisfied: soupsieve>1.2 in /usr/local/lib/python3.10/dist-packages (from beautifulsoup4->gdown) (2.6)\n",
      "Requirement already satisfied: charset-normalizer<4,>=2 in /usr/local/lib/python3.10/dist-packages (from requests[socks]->gdown) (3.4.0)\n",
      "Requirement already satisfied: idna<4,>=2.5 in /usr/local/lib/python3.10/dist-packages (from requests[socks]->gdown) (3.10)\n",
      "Requirement already satisfied: urllib3<3,>=1.21.1 in /usr/local/lib/python3.10/dist-packages (from requests[socks]->gdown) (2.2.3)\n",
      "Requirement already satisfied: certifi>=2017.4.17 in /usr/local/lib/python3.10/dist-packages (from requests[socks]->gdown) (2024.8.30)\n",
      "Requirement already satisfied: PySocks!=1.5.7,>=1.5.6 in /usr/local/lib/python3.10/dist-packages (from requests[socks]->gdown) (1.7.1)\n",
      "Downloading emoji-2.14.0-py3-none-any.whl (586 kB)\n",
      "\u001b[2K   \u001b[90m━━━━━━━━━━━━━━━━━━━━━━━━━━━━━━━━━━━━━━━━\u001b[0m \u001b[32m586.9/586.9 kB\u001b[0m \u001b[31m7.8 MB/s\u001b[0m eta \u001b[36m0:00:00\u001b[0m\n",
      "\u001b[?25hInstalling collected packages: emoji\n",
      "Successfully installed emoji-2.14.0\n"
     ]
    }
   ],
   "source": [
    "# Librerías e infraestructura necesaria\n",
    "!pip install gdown emoji"
   ]
  },
  {
   "cell_type": "code",
   "execution_count": 1,
   "metadata": {
    "colab": {
     "base_uri": "https://localhost:8080/"
    },
    "executionInfo": {
     "elapsed": 26349,
     "status": "ok",
     "timestamp": 1733591657173,
     "user": {
      "displayName": "Bastián Jofré",
      "userId": "01444947171289054730"
     },
     "user_tz": 180
    },
    "id": "E0PPgzitHLwq",
    "outputId": "3beb1372-bab4-45f5-f5b8-1d35e745491e"
   },
   "outputs": [
    {
     "name": "stdout",
     "output_type": "stream",
     "text": [
      "Mounted at /content/drive\n"
     ]
    }
   ],
   "source": [
    "# Montar Google Drive\n",
    "from google.colab import drive\n",
    "drive.mount('/content/drive')"
   ]
  },
  {
   "cell_type": "code",
   "execution_count": 11,
   "metadata": {
    "executionInfo": {
     "elapsed": 239,
     "status": "ok",
     "timestamp": 1733593423829,
     "user": {
      "displayName": "Bastián Jofré",
      "userId": "01444947171289054730"
     },
     "user_tz": 180
    },
    "id": "CzaS8pyBN-71"
   },
   "outputs": [],
   "source": [
    "!cd /content/drive/MyDrive/tw-latam-test"
   ]
  },
  {
   "cell_type": "code",
   "execution_count": 5,
   "metadata": {
    "colab": {
     "base_uri": "https://localhost:8080/"
    },
    "executionInfo": {
     "elapsed": 7051,
     "status": "ok",
     "timestamp": 1733592237211,
     "user": {
      "displayName": "Bastián Jofré",
      "userId": "01444947171289054730"
     },
     "user_tz": 180
    },
    "id": "2tZbFVCFJE0f",
    "outputId": "fe9a4924-f453-4931-f144-51696b780106"
   },
   "outputs": [
    {
     "name": "stderr",
     "output_type": "stream",
     "text": [
      "Downloading...\n",
      "From (original): https://drive.google.com/uc?id=1ig2ngoXFTxP5Pa8muXo02mDTFexZzsis\n",
      "From (redirected): https://drive.google.com/uc?id=1ig2ngoXFTxP5Pa8muXo02mDTFexZzsis&confirm=t&uuid=536fb48f-657e-48c0-a8b3-360eda346973\n",
      "To: /content/tweets.json.zip\n",
      "100%|██████████| 60.4M/60.4M [00:01<00:00, 56.5MB/s]\n"
     ]
    },
    {
     "name": "stdout",
     "output_type": "stream",
     "text": [
      "Archivo descomprimido en la carpeta 'tweets_extracted'\n"
     ]
    }
   ],
   "source": [
    "import gdown\n",
    "import zipfile\n",
    "\n",
    "# ID del archivo (extraído del enlace)\n",
    "file_id = \"1ig2ngoXFTxP5Pa8muXo02mDTFexZzsis\"\n",
    "# URL de descarga\n",
    "download_url = f\"https://drive.google.com/uc?id={file_id}\"\n",
    "# Nombre del archivo descargado\n",
    "zip_output = \"tweets.json.zip\"\n",
    "\n",
    "# Descargar el archivo\n",
    "gdown.download(download_url, zip_output, quiet=False)\n",
    "\n",
    "# Descomprimir el archivo\n",
    "with zipfile.ZipFile(zip_output, 'r') as zip_ref:\n",
    "    zip_ref.extractall(\"tweets_extracted\")\n",
    "\n",
    "print(\"Archivo descomprimido en la carpeta 'tweets_extracted'\")"
   ]
  },
  {
   "cell_type": "markdown",
   "metadata": {
    "id": "tW9HLdqpG_i0"
   },
   "source": [
    "Se importan los modulos python junto con sus funciones  "
   ]
  },
  {
   "cell_type": "code",
   "execution_count": 22,
   "metadata": {
    "executionInfo": {
     "elapsed": 338,
     "status": "ok",
     "timestamp": 1733595457795,
     "user": {
      "displayName": "Bastián Jofré",
      "userId": "01444947171289054730"
     },
     "user_tz": 180
    },
    "id": "9bZ-GGURMeaA"
   },
   "outputs": [],
   "source": [
    "%run src/q1_memory.py\n",
    "%run src/q1_time.py\n",
    "%run src/q2_memory.py\n",
    "%run src/q2_time.py\n",
    "%run src/q3_memory.py\n",
    "%run src/q3_time.py\n",
    "%run src/utilidades.py\n"
   ]
  },
  {
   "cell_type": "markdown",
   "metadata": {
    "id": "nMFLEQybG_i1"
   },
   "source": [
    "Se definen variables de entorno"
   ]
  },
  {
   "cell_type": "code",
   "execution_count": 14,
   "metadata": {
    "colab": {
     "base_uri": "https://localhost:8080/"
    },
    "executionInfo": {
     "elapsed": 237,
     "status": "ok",
     "timestamp": 1733593483061,
     "user": {
      "displayName": "Bastián Jofré",
      "userId": "01444947171289054730"
     },
     "user_tz": 180
    },
    "id": "Y6PR_7iNG_i1",
    "outputId": "eda68319-8d55-4dfb-c9c1-09e2916835c7"
   },
   "outputs": [
    {
     "name": "stdout",
     "output_type": "stream",
     "text": [
      "/content/tweets_extracted/farmers-protest-tweets-2021-2-4.json\n"
     ]
    }
   ],
   "source": [
    "# define la ruta\n",
    "file_directory = '/content/tweets_extracted/'\n",
    "\n",
    "# define nombre de archivo\n",
    "file_name = 'farmers-protest-tweets-2021-2-4.json'\n",
    "\n",
    "# concatenamos la ruta y el nombre del archivo\n",
    "file_path = file_directory + file_name\n",
    "print(file_path)"
   ]
  },
  {
   "cell_type": "markdown",
   "metadata": {
    "id": "4QkIv7FzG_i1"
   },
   "source": [
    "Ejecución de la llamada de cantidad de twits en un periodo \"q1_time\""
   ]
  },
  {
   "cell_type": "code",
   "execution_count": 26,
   "metadata": {
    "colab": {
     "base_uri": "https://localhost:8080/"
    },
    "executionInfo": {
     "elapsed": 19587,
     "status": "ok",
     "timestamp": 1733595614333,
     "user": {
      "displayName": "Bastián Jofré",
      "userId": "01444947171289054730"
     },
     "user_tz": 180
    },
    "id": "3mXhVgV-G_i1",
    "outputId": "529cc626-bc6e-4e49-f3d3-3e922aff6b3e"
   },
   "outputs": [
    {
     "name": "stdout",
     "output_type": "stream",
     "text": [
      "⏱️ Tiempo de ejecución de q1_time: 19.3166 segundos\n",
      "⏱️ Tiempo de ejecución de execute: 19.3229 segundos\n",
      "None\n"
     ]
    }
   ],
   "source": [
    "@time_it\n",
    "def execute q1_time()(function_name):\n",
    "    result = q1_time(file_path)\n",
    "\n",
    "result = execute_timed_fuction()\n",
    "print(result)"
   ]
  },
  {
   "cell_type": "markdown",
   "metadata": {
    "id": "zQw24OyGG_i2"
   },
   "source": [
    "Ejecución de llamada top emojis - 10 mas usados"
   ]
  },
  {
   "cell_type": "code",
   "execution_count": 16,
   "metadata": {
    "colab": {
     "base_uri": "https://localhost:8080/"
    },
    "executionInfo": {
     "elapsed": 19098,
     "status": "ok",
     "timestamp": 1733593546655,
     "user": {
      "displayName": "Bastián Jofré",
      "userId": "01444947171289054730"
     },
     "user_tz": 180
    },
    "id": "RnCnFLx7G_i2",
    "outputId": "8ff95716-210d-4f4d-800d-8224a7b59eb6"
   },
   "outputs": [
    {
     "name": "stdout",
     "output_type": "stream",
     "text": [
      "[('🙏', 7286), ('😂', 3072), ('🚜', 2972), ('✊', 2411), ('🌾', 2363), ('🏻', 2080), ('❤', 1779), ('🤣', 1668), ('🏽', 1218), ('👇', 1108)]\n"
     ]
    }
   ],
   "source": [
    "top_emojis = q2_time(file_path)\n",
    "print(top_emojis)"
   ]
  },
  {
   "cell_type": "markdown",
   "metadata": {
    "id": "p9tyU8PSG_i2"
   },
   "source": [
    "Ejecución de llamada de tweets con más reacciones"
   ]
  },
  {
   "cell_type": "code",
   "execution_count": null,
   "metadata": {
    "id": "r-hWEgzxG_i2",
    "outputId": "2f730d8c-abba-4db9-a351-9c114115ee87"
   },
   "outputs": [
    {
     "name": "stdout",
     "output_type": "stream",
     "text": [
      "[('@narendramodi', 2261), ('@Kisanektamorcha', 1836), ('@RakeshTikaitBKU', 1639), ('@PMOIndia', 1422), ('@RahulGandhi', 1125), ('@GretaThunberg', 1046), ('@RaviSinghKA', 1015), ('@rihanna', 972), ('@UNHumanRights', 962), ('@meenaharris', 925)]\n"
     ]
    }
   ],
   "source": [
    "top_mentions = q3_time(file_path)\n",
    "print(top_mentions)"
   ]
  }
 ],
 "metadata": {
  "colab": {
   "provenance": []
  },
  "kernelspec": {
   "display_name": "venv",
   "language": "python",
   "name": "python3"
  },
  "language_info": {
   "codemirror_mode": {
    "name": "ipython",
    "version": 3
   },
   "file_extension": ".py",
   "mimetype": "text/x-python",
   "name": "python",
   "nbconvert_exporter": "python",
   "pygments_lexer": "ipython3",
   "version": "3.12.7"
  }
 },
 "nbformat": 4,
 "nbformat_minor": 0
}
